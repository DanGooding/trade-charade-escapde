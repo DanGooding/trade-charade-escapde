{
 "cells": [
  {
   "cell_type": "code",
   "execution_count": 1,
   "id": "finished-accident",
   "metadata": {},
   "outputs": [
    {
     "name": "stdout",
     "output_type": "stream",
     "text": [
      "Setup was successful.\n"
     ]
    }
   ],
   "source": [
    "from optibook.synchronous_client import Exchange\n",
    "\n",
    "import logging\n",
    "logger = logging.getLogger('client')\n",
    "logger.setLevel('ERROR')\n",
    "\n",
    "print(\"Setup was successful.\")"
   ]
  },
  {
   "cell_type": "code",
   "execution_count": 2,
   "id": "loved-compiler",
   "metadata": {},
   "outputs": [],
   "source": [
    "instrument_id = 'PHILIPS_A'"
   ]
  },
  {
   "cell_type": "markdown",
   "id": "tamil-highland",
   "metadata": {},
   "source": [
    "### Connect to Exchange"
   ]
  },
  {
   "cell_type": "code",
   "execution_count": 3,
   "id": "continued-movie",
   "metadata": {},
   "outputs": [
    {
     "name": "stderr",
     "output_type": "stream",
     "text": [
      "2021-01-23 13:24:44,136 [asyncio   ] [MainThread  ] Using selector: EpollSelector\n"
     ]
    }
   ],
   "source": [
    "e = Exchange()\n",
    "a = e.connect()\n",
    "\n",
    "# you can also define host/user/pass yourself\n",
    "# when not defined, it is taken from ~/.optibook file if it exists\n",
    "# if that file does not exists, an error is thrown\n",
    "\n",
    "#e = Exchange(host='host-to-connect-to')\n",
    "#a = e.connect(username='your-username', password='your-password')\n"
   ]
  },
  {
   "cell_type": "markdown",
   "id": "rational-guinea",
   "metadata": {},
   "source": [
    "## Problem 1\n",
    "Buy 1 lot of the instrument of your choice at any current price, and use the Optibook client to double check your position. You should have +1 lot."
   ]
  },
  {
   "cell_type": "code",
   "execution_count": 20,
   "id": "growing-amateur",
   "metadata": {},
   "outputs": [
    {
     "name": "stdout",
     "output_type": "stream",
     "text": [
      "<optibook.common_types.PriceBook object at 0x7fdc94018198>\n"
     ]
    }
   ],
   "source": [
    "book = e.get_last_price_book(instrument_id)\n",
    "print(book)"
   ]
  },
  {
   "cell_type": "code",
   "execution_count": 21,
   "id": "under-diagnosis",
   "metadata": {},
   "outputs": [
    {
     "data": {
      "text/plain": [
       "([[price_volume] price=71.4, volume=200,\n",
       "  [price_volume] price=71.0, volume=3,\n",
       "  [price_volume] price=70.9, volume=18,\n",
       "  [price_volume] price=70.8, volume=3,\n",
       "  [price_volume] price=68.8, volume=10,\n",
       "  [price_volume] price=68.0, volume=10],\n",
       " [[price_volume] price=71.7, volume=1,\n",
       "  [price_volume] price=71.8, volume=2,\n",
       "  [price_volume] price=72.0, volume=200])"
      ]
     },
     "execution_count": 21,
     "metadata": {},
     "output_type": "execute_result"
    }
   ],
   "source": [
    "book.bids, book.asks\n",
    "# bids -- people wanting to buy\n",
    "# asks -- people wanting to sell"
   ]
  },
  {
   "cell_type": "code",
   "execution_count": 23,
   "id": "accompanied-renaissance",
   "metadata": {},
   "outputs": [
    {
     "name": "stdout",
     "output_type": "stream",
     "text": [
      "<optibook.common_types.PriceBook object at 0x7fdc73bb1eb8>\n",
      "187563\n"
     ]
    }
   ],
   "source": [
    "# buy from someone who wants to sell -- place a bid\n",
    "book = e.get_last_price_book(instrument_id)\n",
    "print(book)\n",
    "bids = book.asks\n",
    "result = e.insert_order(instrument_id, price=bids[0].price, volume=1, side='bid', order_type='ioc')\n",
    "print(result)"
   ]
  },
  {
   "cell_type": "code",
   "execution_count": 24,
   "id": "laden-buying",
   "metadata": {},
   "outputs": [
    {
     "data": {
      "text/plain": [
       "187563"
      ]
     },
     "execution_count": 24,
     "metadata": {},
     "output_type": "execute_result"
    }
   ],
   "source": [
    "result"
   ]
  },
  {
   "cell_type": "code",
   "execution_count": 25,
   "id": "weighted-expansion",
   "metadata": {},
   "outputs": [
    {
     "data": {
      "text/plain": [
       "{'PHILIPS_A': 1, 'PHILIPS_B': 0}"
      ]
     },
     "execution_count": 25,
     "metadata": {},
     "output_type": "execute_result"
    }
   ],
   "source": [
    "e.get_positions()"
   ]
  },
  {
   "cell_type": "code",
   "execution_count": null,
   "id": "linear-buffer",
   "metadata": {},
   "outputs": [],
   "source": []
  }
 ],
 "metadata": {
  "kernelspec": {
   "display_name": "Python 3",
   "language": "python",
   "name": "python3"
  },
  "language_info": {
   "codemirror_mode": {
    "name": "ipython",
    "version": 3
   },
   "file_extension": ".py",
   "mimetype": "text/x-python",
   "name": "python",
   "nbconvert_exporter": "python",
   "pygments_lexer": "ipython3",
   "version": "3.6.12"
  }
 },
 "nbformat": 4,
 "nbformat_minor": 5
}
